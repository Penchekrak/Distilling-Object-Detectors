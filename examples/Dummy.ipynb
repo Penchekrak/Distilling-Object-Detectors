{
 "cells": [
  {
   "cell_type": "code",
   "execution_count": 13,
   "id": "interstate-headquarters",
   "metadata": {},
   "outputs": [],
   "source": [
    "import wandb\n",
    "import pytorch_lightning as pl\n",
    "import torch\n",
    "from torchvision.datasets import VOCDetection\n",
    "from torchvision.transforms import Compose, Resize, ToTensor"
   ]
  },
  {
   "cell_type": "code",
   "execution_count": 16,
   "id": "dependent-faith",
   "metadata": {},
   "outputs": [
    {
     "name": "stdout",
     "output_type": "stream",
     "text": [
      "Using downloaded and verified file: data/VOCtrainval_06-Nov-2007.tar\n"
     ]
    }
   ],
   "source": [
    "img_size = (512, 512)\n",
    "\n",
    "def target_transform(target):\n",
    "    size = float(target['annotation']['size']['width']), float(target['annotation']['size']['height']) \n",
    "    obj = [float(target['annotation']['object'][0]['bndbox'][coord]) for coord in ['xmin', 'ymin', 'xmax', 'ymax'] \n",
    "    label = \n",
    "\n",
    "dataset = VOCDetection(\n",
    "    root='data',\n",
    "    download=True,\n",
    "    year='2007',\n",
    "    image_set='val',\n",
    "    transform=Compose([Resize(img_size), ToTensor()]),\n",
    "    target_transform=\n",
    ")"
   ]
  },
  {
   "cell_type": "code",
   "execution_count": 5,
   "id": "endless-entertainment",
   "metadata": {
    "collapsed": true
   },
   "outputs": [
    {
     "data": {
      "text/html": [
       "Finishing last run (ID:2tvmlbil) before initializing another..."
      ],
      "text/plain": [
       "<IPython.core.display.HTML object>"
      ]
     },
     "metadata": {},
     "output_type": "display_data"
    },
    {
     "data": {
      "text/html": [
       "<br/>Waiting for W&B process to finish, PID 27808<br/>Program ended successfully."
      ],
      "text/plain": [
       "<IPython.core.display.HTML object>"
      ]
     },
     "metadata": {},
     "output_type": "display_data"
    },
    {
     "data": {
      "application/vnd.jupyter.widget-view+json": {
       "model_id": "",
       "version_major": 2,
       "version_minor": 0
      },
      "text/plain": [
       "VBox(children=(Label(value=' 0.00MB of 0.00MB uploaded (0.00MB deduped)\\r'), FloatProgress(value=1.0, max=1.0)…"
      ]
     },
     "metadata": {},
     "output_type": "display_data"
    },
    {
     "data": {
      "text/html": [
       "Find user logs for this run at: <code>/home/annispiridonov/RESEARCH_PRACTICE/examples/wandb/run-20210302_124136-2tvmlbil/logs/debug.log</code>"
      ],
      "text/plain": [
       "<IPython.core.display.HTML object>"
      ]
     },
     "metadata": {},
     "output_type": "display_data"
    },
    {
     "data": {
      "text/html": [
       "Find internal logs for this run at: <code>/home/annispiridonov/RESEARCH_PRACTICE/examples/wandb/run-20210302_124136-2tvmlbil/logs/debug-internal.log</code>"
      ],
      "text/plain": [
       "<IPython.core.display.HTML object>"
      ]
     },
     "metadata": {},
     "output_type": "display_data"
    },
    {
     "data": {
      "text/html": [
       "Synced 4 W&B file(s), 0 media file(s), 0 artifact file(s) and 0 other file(s)"
      ],
      "text/plain": [
       "<IPython.core.display.HTML object>"
      ]
     },
     "metadata": {},
     "output_type": "display_data"
    },
    {
     "data": {
      "text/html": [
       "\n",
       "                    <br/>Synced <strong style=\"color:#cdcd00\">proud-donkey-2</strong>: <a href=\"https://wandb.ai/penchekrak/RESEARCH_PRACTICE-examples/runs/2tvmlbil\" target=\"_blank\">https://wandb.ai/penchekrak/RESEARCH_PRACTICE-examples/runs/2tvmlbil</a><br/>\n",
       "                "
      ],
      "text/plain": [
       "<IPython.core.display.HTML object>"
      ]
     },
     "metadata": {},
     "output_type": "display_data"
    },
    {
     "data": {
      "text/html": [
       "...Successfully finished last run (ID:2tvmlbil). Initializing new run:<br/><br/>"
      ],
      "text/plain": [
       "<IPython.core.display.HTML object>"
      ]
     },
     "metadata": {},
     "output_type": "display_data"
    },
    {
     "data": {
      "text/html": [
       "\n",
       "                Tracking run with wandb version 0.10.20<br/>\n",
       "                Syncing run <strong style=\"color:#cdcd00\">zesty-tree-1</strong> to <a href=\"https://wandb.ai\" target=\"_blank\">Weights & Biases</a> <a href=\"https://docs.wandb.com/integrations/jupyter.html\" target=\"_blank\">(Documentation)</a>.<br/>\n",
       "                Project page: <a href=\"https://wandb.ai/penchekrak/test\" target=\"_blank\">https://wandb.ai/penchekrak/test</a><br/>\n",
       "                Run page: <a href=\"https://wandb.ai/penchekrak/test/runs/1vqfjmol\" target=\"_blank\">https://wandb.ai/penchekrak/test/runs/1vqfjmol</a><br/>\n",
       "                Run data is saved locally in <code>/home/annispiridonov/RESEARCH_PRACTICE/examples/wandb/run-20210302_124205-1vqfjmol</code><br/><br/>\n",
       "            "
      ],
      "text/plain": [
       "<IPython.core.display.HTML object>"
      ]
     },
     "metadata": {},
     "output_type": "display_data"
    },
    {
     "data": {
      "text/html": [
       "<h1>Run(1vqfjmol)</h1><iframe src=\"https://wandb.ai/penchekrak/test/runs/1vqfjmol\" style=\"border:none;width:100%;height:400px\"></iframe>"
      ],
      "text/plain": [
       "<wandb.sdk.wandb_run.Run at 0x7fe11aa2b400>"
      ]
     },
     "execution_count": 5,
     "metadata": {},
     "output_type": "execute_result"
    }
   ],
   "source": [
    "wandb.init(project='test')"
   ]
  },
  {
   "cell_type": "code",
   "execution_count": 23,
   "id": "certified-apartment",
   "metadata": {},
   "outputs": [
    {
     "data": {
      "text/plain": [
       "{'width': '500', 'height': '375', 'depth': '3'}"
      ]
     },
     "execution_count": 23,
     "metadata": {},
     "output_type": "execute_result"
    }
   ],
   "source": [
    "dataset[0][1]['annotation']['size']"
   ]
  },
  {
   "cell_type": "code",
   "execution_count": 18,
   "id": "cardiovascular-intellectual",
   "metadata": {},
   "outputs": [],
   "source": [
    "from torch.utils.data import DataLoader"
   ]
  },
  {
   "cell_type": "code",
   "execution_count": 19,
   "id": "cubic-cover",
   "metadata": {},
   "outputs": [],
   "source": [
    "dataloader = DataLoader(dataset)"
   ]
  },
  {
   "cell_type": "code",
   "execution_count": 20,
   "id": "graphic-rough",
   "metadata": {},
   "outputs": [
    {
     "data": {
      "text/plain": [
       "[tensor([[[[0.0431, 0.0510, 0.0392,  ..., 0.6431, 0.6392, 0.6353],\n",
       "           [0.0275, 0.0392, 0.0431,  ..., 0.6353, 0.6353, 0.6314],\n",
       "           [0.0706, 0.0549, 0.0510,  ..., 0.6353, 0.6353, 0.6353],\n",
       "           ...,\n",
       "           [0.1412, 0.1333, 0.1294,  ..., 0.2471, 0.2588, 0.2549],\n",
       "           [0.1647, 0.1765, 0.2000,  ..., 0.2549, 0.2706, 0.2706],\n",
       "           [0.1922, 0.2392, 0.2824,  ..., 0.2510, 0.2667, 0.2706]],\n",
       " \n",
       "          [[0.0353, 0.0510, 0.0392,  ..., 0.7333, 0.7294, 0.7255],\n",
       "           [0.0235, 0.0392, 0.0431,  ..., 0.7373, 0.7333, 0.7333],\n",
       "           [0.0745, 0.0588, 0.0510,  ..., 0.7412, 0.7412, 0.7412],\n",
       "           ...,\n",
       "           [0.0353, 0.0392, 0.0353,  ..., 0.3020, 0.3137, 0.3137],\n",
       "           [0.0431, 0.0471, 0.0588,  ..., 0.3137, 0.3294, 0.3294],\n",
       "           [0.0667, 0.0824, 0.0980,  ..., 0.3098, 0.3255, 0.3294]],\n",
       " \n",
       "          [[0.0392, 0.0510, 0.0392,  ..., 0.7569, 0.7529, 0.7490],\n",
       "           [0.0314, 0.0392, 0.0431,  ..., 0.7608, 0.7608, 0.7569],\n",
       "           [0.0824, 0.0627, 0.0549,  ..., 0.7686, 0.7686, 0.7686],\n",
       "           ...,\n",
       "           [0.0157, 0.0275, 0.0078,  ..., 0.4196, 0.4314, 0.4314],\n",
       "           [0.0118, 0.0235, 0.0235,  ..., 0.4275, 0.4431, 0.4431],\n",
       "           [0.0157, 0.0510, 0.0588,  ..., 0.4235, 0.4392, 0.4431]]]]),\n",
       " {'annotation': {'folder': ['VOC2007'],\n",
       "   'filename': ['000005.jpg'],\n",
       "   'source': {'database': ['The VOC2007 Database'],\n",
       "    'annotation': ['PASCAL VOC2007'],\n",
       "    'image': ['flickr'],\n",
       "    'flickrid': ['325991873']},\n",
       "   'owner': {'flickrid': ['archintent louisville'], 'name': ['?']},\n",
       "   'size': {'width': ['500'], 'height': ['375'], 'depth': ['3']},\n",
       "   'segmented': ['0'],\n",
       "   'object': [{'name': ['chair'],\n",
       "     'pose': ['Rear'],\n",
       "     'truncated': ['0'],\n",
       "     'difficult': ['0'],\n",
       "     'bndbox': {'xmin': ['263'],\n",
       "      'ymin': ['211'],\n",
       "      'xmax': ['324'],\n",
       "      'ymax': ['339']}},\n",
       "    {'name': ['chair'],\n",
       "     'pose': ['Unspecified'],\n",
       "     'truncated': ['0'],\n",
       "     'difficult': ['0'],\n",
       "     'bndbox': {'xmin': ['165'],\n",
       "      'ymin': ['264'],\n",
       "      'xmax': ['253'],\n",
       "      'ymax': ['372']}},\n",
       "    {'name': ['chair'],\n",
       "     'pose': ['Unspecified'],\n",
       "     'truncated': ['1'],\n",
       "     'difficult': ['1'],\n",
       "     'bndbox': {'xmin': ['5'],\n",
       "      'ymin': ['244'],\n",
       "      'xmax': ['67'],\n",
       "      'ymax': ['374']}},\n",
       "    {'name': ['chair'],\n",
       "     'pose': ['Unspecified'],\n",
       "     'truncated': ['0'],\n",
       "     'difficult': ['0'],\n",
       "     'bndbox': {'xmin': ['241'],\n",
       "      'ymin': ['194'],\n",
       "      'xmax': ['295'],\n",
       "      'ymax': ['299']}},\n",
       "    {'name': ['chair'],\n",
       "     'pose': ['Unspecified'],\n",
       "     'truncated': ['1'],\n",
       "     'difficult': ['1'],\n",
       "     'bndbox': {'xmin': ['277'],\n",
       "      'ymin': ['186'],\n",
       "      'xmax': ['312'],\n",
       "      'ymax': ['220']}}]}}]"
      ]
     },
     "execution_count": 20,
     "metadata": {},
     "output_type": "execute_result"
    }
   ],
   "source": [
    "next(iter(dataloader))"
   ]
  },
  {
   "cell_type": "markdown",
   "id": "loaded-laundry",
   "metadata": {},
   "source": [
    "Object detection tutorial"
   ]
  },
  {
   "cell_type": "code",
   "execution_count": 7,
   "id": "juvenile-rogers",
   "metadata": {},
   "outputs": [],
   "source": [
    "wandb.log({'loss': 0.4})"
   ]
  },
  {
   "cell_type": "code",
   "execution_count": null,
   "id": "therapeutic-smart",
   "metadata": {},
   "outputs": [],
   "source": []
  },
  {
   "cell_type": "markdown",
   "id": "interim-pricing",
   "metadata": {},
   "source": [
    "Distillation Tutorial"
   ]
  },
  {
   "cell_type": "code",
   "execution_count": null,
   "id": "defensive-pollution",
   "metadata": {},
   "outputs": [],
   "source": []
  }
 ],
 "metadata": {
  "kernelspec": {
   "display_name": "Python 3",
   "language": "python",
   "name": "python3"
  },
  "language_info": {
   "codemirror_mode": {
    "name": "ipython",
    "version": 3
   },
   "file_extension": ".py",
   "mimetype": "text/x-python",
   "name": "python",
   "nbconvert_exporter": "python",
   "pygments_lexer": "ipython3",
   "version": "3.6.9"
  }
 },
 "nbformat": 4,
 "nbformat_minor": 5
}
